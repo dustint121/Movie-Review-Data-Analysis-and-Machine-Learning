{
  "nbformat": 4,
  "nbformat_minor": 0,
  "metadata": {
    "colab": {
      "provenance": []
    },
    "kernelspec": {
      "name": "python3",
      "display_name": "Python 3"
    },
    "language_info": {
      "name": "python"
    }
  },
  "cells": [
    {
      "cell_type": "code",
      "execution_count": 1,
      "metadata": {
        "colab": {
          "base_uri": "https://localhost:8080/"
        },
        "id": "YTU4vT0yVSX8",
        "outputId": "b7c3d814-622a-49b3-a639-f199d69b60d8"
      },
      "outputs": [
        {
          "output_type": "execute_result",
          "data": {
            "text/plain": [
              "Movie                                                           47 RONIN\n",
              "Review                 Heavy on CGI, light on entertainment, 47 Ronin...\n",
              "Score                                                               40.0\n",
              "Average Movie Score                                                 44.5\n",
              "Film Rating                                                       PG-13 \n",
              "Description            Based on the original 1941 movie from Japan, a...\n",
              "budget                                                       175000000.0\n",
              "box office                                                   150962475.0\n",
              "all genres                                Action|Adventure|Drama|Fantasy\n",
              "Action                                                                 1\n",
              "Adventure                                                              1\n",
              "Animation                                                              0\n",
              "Comedy                                                                 0\n",
              "Crime                                                                  0\n",
              "Drama                                                                  1\n",
              "Family                                                                 0\n",
              "Fantasy                                                                1\n",
              "Mystery                                                                0\n",
              "Romance                                                                0\n",
              "Science Fiction                                                        0\n",
              "Thriller                                                               0\n",
              "War                                                                    0\n",
              "Western                                                                0\n",
              "Name: 0, dtype: object"
            ]
          },
          "metadata": {},
          "execution_count": 1
        }
      ],
      "source": [
        "import pandas as pd\n",
        "import numpy as np\n",
        "import matplotlib.pyplot as plt\n",
        "\n",
        "df_movie_reviews = pd.read_csv(\"movie_reviews_with_info.csv\", index_col=0)\n",
        "df_movie_reviews.loc[0]"
      ]
    },
    {
      "cell_type": "code",
      "source": [
        "df_movie_reviews.info()"
      ],
      "metadata": {
        "colab": {
          "base_uri": "https://localhost:8080/"
        },
        "id": "rR41xB4UVhwu",
        "outputId": "1028c5d2-4022-4a52-d6b0-32e0d3f39bd2"
      },
      "execution_count": 2,
      "outputs": [
        {
          "output_type": "stream",
          "name": "stdout",
          "text": [
            "<class 'pandas.core.frame.DataFrame'>\n",
            "Int64Index: 18713 entries, 0 to 18712\n",
            "Data columns (total 23 columns):\n",
            " #   Column               Non-Null Count  Dtype  \n",
            "---  ------               --------------  -----  \n",
            " 0   Movie                18713 non-null  object \n",
            " 1   Review               18713 non-null  object \n",
            " 2   Score                18713 non-null  float64\n",
            " 3   Average Movie Score  18713 non-null  float64\n",
            " 4   Film Rating          18713 non-null  object \n",
            " 5   Description          18713 non-null  object \n",
            " 6   budget               18713 non-null  float64\n",
            " 7   box office           18713 non-null  float64\n",
            " 8   all genres           18713 non-null  object \n",
            " 9   Action               18713 non-null  int64  \n",
            " 10  Adventure            18713 non-null  int64  \n",
            " 11  Animation            18713 non-null  int64  \n",
            " 12  Comedy               18713 non-null  int64  \n",
            " 13  Crime                18713 non-null  int64  \n",
            " 14  Drama                18713 non-null  int64  \n",
            " 15  Family               18713 non-null  int64  \n",
            " 16  Fantasy              18713 non-null  int64  \n",
            " 17  Mystery              18713 non-null  int64  \n",
            " 18  Romance              18713 non-null  int64  \n",
            " 19  Science Fiction      18713 non-null  int64  \n",
            " 20  Thriller             18713 non-null  int64  \n",
            " 21  War                  18713 non-null  int64  \n",
            " 22  Western              18713 non-null  int64  \n",
            "dtypes: float64(4), int64(14), object(5)\n",
            "memory usage: 3.9+ MB\n"
          ]
        }
      ]
    },
    {
      "cell_type": "markdown",
      "source": [
        "# Dataset Stats\n",
        "\n",
        "The overall variation(based on mean absolute deviation) on critic scores for movies is 11.2 points(on a 0-100 point scale). On average, movies in this dataset make 3.5 times their original budget, with the median being 3.1 times. 96.5% of movies manage to break even at the very least. "
      ],
      "metadata": {
        "id": "QoOLT9WhZ4JY"
      }
    },
    {
      "cell_type": "code",
      "source": [
        "df_movie_reviews.groupby(\"Movie\")[\"Score\"].mad().mean()\n",
        "# df_movie_reviews.plot.scatter(x=\"box office\", y=\"Score\")"
      ],
      "metadata": {
        "colab": {
          "base_uri": "https://localhost:8080/"
        },
        "id": "Lq-6UAlPI4To",
        "outputId": "f58ef8de-fbfc-4a91-e128-4120b721e937"
      },
      "execution_count": 3,
      "outputs": [
        {
          "output_type": "execute_result",
          "data": {
            "text/plain": [
              "11.825676590331852"
            ]
          },
          "metadata": {},
          "execution_count": 3
        }
      ]
    },
    {
      "cell_type": "code",
      "source": [
        "(df_movie_reviews[\"box office\"]/df_movie_reviews[\"budget\"]).mean()"
      ],
      "metadata": {
        "colab": {
          "base_uri": "https://localhost:8080/"
        },
        "id": "s0Z4jyQzc69m",
        "outputId": "739935fa-01b0-4666-cec6-13bdb60f7459"
      },
      "execution_count": 4,
      "outputs": [
        {
          "output_type": "execute_result",
          "data": {
            "text/plain": [
              "3.5039159886638127"
            ]
          },
          "metadata": {},
          "execution_count": 4
        }
      ]
    },
    {
      "cell_type": "code",
      "source": [
        "(df_movie_reviews[\"box office\"]/df_movie_reviews[\"budget\"]).median()"
      ],
      "metadata": {
        "colab": {
          "base_uri": "https://localhost:8080/"
        },
        "id": "KxrQdstBdRZm",
        "outputId": "cf08678a-5b1a-4ed5-aaa0-47c9bdf5425e"
      },
      "execution_count": 5,
      "outputs": [
        {
          "output_type": "execute_result",
          "data": {
            "text/plain": [
              "3.062988172972973"
            ]
          },
          "metadata": {},
          "execution_count": 5
        }
      ]
    },
    {
      "cell_type": "code",
      "source": [
        "(df_movie_reviews[\"box office\"] > df_movie_reviews[\"budget\"]).value_counts(normalize=True)"
      ],
      "metadata": {
        "colab": {
          "base_uri": "https://localhost:8080/"
        },
        "id": "rSuWFabAc7nM",
        "outputId": "5a48df2b-1bbb-432d-ecf6-9decc6146c49"
      },
      "execution_count": 6,
      "outputs": [
        {
          "output_type": "execute_result",
          "data": {
            "text/plain": [
              "True     0.965051\n",
              "False    0.034949\n",
              "dtype: float64"
            ]
          },
          "metadata": {},
          "execution_count": 6
        }
      ]
    },
    {
      "cell_type": "markdown",
      "source": [
        "# Analyze Average Movie Scores Based On Genre\n",
        "\n",
        "Regarding individual genres, movies in the \"War\", \"Drama\" and \"Animation\" genres seem to do the best, while \"Fantasy\" and \"Western\" are the worst performing.\n",
        "\n",
        "However, this does not seem to directly translate to how a mixture of genres will do overall. For example, a combination of Action, Adventure, and Thriller is the 7th best hybrid-genre category despite its individual genres being apart of the lower performaning genres."
      ],
      "metadata": {
        "id": "yUJRKcYiAgFL"
      }
    },
    {
      "cell_type": "code",
      "source": [
        "genres = df_movie_reviews.columns[9:]\n",
        "\n",
        "genre_score_dict = {}\n",
        "for genre in genres:\n",
        "    valid_reviews_df = df_movie_reviews[df_movie_reviews[genre] == 1]\n",
        "    genre_score_dict[genre] = valid_reviews_df[\"Score\"].mean()\n",
        "genre_score_dict = dict(sorted(genre_score_dict.items(), key=lambda item: item[1], reverse=True))\n",
        "genre_score_dict\n",
        "\n",
        "\n",
        "y_pos = np.arange(len(genre_score_dict))\n",
        "performance = genre_score_dict.values()\n",
        "fig, ax = plt.subplots()\n",
        "hbars = ax.barh(y_pos, performance, align='center')\n",
        "ax.set_yticks(ticks=y_pos)\n",
        "ax.set_yticklabels(genre_score_dict.keys())\n",
        "ax.invert_yaxis()  # labels read top-to-bottom"
      ],
      "metadata": {
        "colab": {
          "base_uri": "https://localhost:8080/",
          "height": 265
        },
        "id": "9ori46KFAjfY",
        "outputId": "939ad3c9-6381-44fd-f6a1-be7b58174ad4"
      },
      "execution_count": 7,
      "outputs": [
        {
          "output_type": "display_data",
          "data": {
            "text/plain": [
              "<Figure size 432x288 with 1 Axes>"
            ],
            "image/png": "[encoded data removed]"
          },
          "metadata": {
            "needs_background": "light"
          }
        }
      ]
    },
    {
      "cell_type": "code",
      "source": [
        "#best performing combination of dramas; take notice of the last one\n",
        "df_movie_reviews.groupby(\"all genres\")[\"Score\"].mean().sort_values(ascending=False).head(20).plot.bar()"
      ],
      "metadata": {
        "colab": {
          "base_uri": "https://localhost:8080/",
          "height": 549
        },
        "id": "WIu-uP5BAavA",
        "outputId": "cddca049-118c-4fc3-faf8-725a00cbf6d3"
      },
      "execution_count": 8,
      "outputs": [
        {
          "output_type": "execute_result",
          "data": {
            "text/plain": [
              "<matplotlib.axes._subplots.AxesSubplot at 0x7f7135f0e950>"
            ]
          },
          "metadata": {},
          "execution_count": 8
        },
        {
          "output_type": "display_data",
          "data": {
            "text/plain": [
              "<Figure size 432x288 with 1 Axes>"
            ],
            "image/png": "[encoded data removed]"
          },
          "metadata": {
            "needs_background": "light"
          }
        }
      ]
    },
    {
      "cell_type": "code",
      "source": [
        "#worst performing combination of dramas; take notice of the last one\n",
        "df_movie_reviews.groupby(\"all genres\")[\"Score\"].mean().sort_values(ascending=False).tail(10).plot.bar()"
      ],
      "metadata": {
        "colab": {
          "base_uri": "https://localhost:8080/",
          "height": 525
        },
        "id": "QPG5iuf3HYAc",
        "outputId": "25b1488c-2f7e-4871-c7c4-17005ba1957e"
      },
      "execution_count": 9,
      "outputs": [
        {
          "output_type": "execute_result",
          "data": {
            "text/plain": [
              "<matplotlib.axes._subplots.AxesSubplot at 0x7f7135df1990>"
            ]
          },
          "metadata": {},
          "execution_count": 9
        },
        {
          "output_type": "display_data",
          "data": {
            "text/plain": [
              "<Figure size 432x288 with 1 Axes>"
            ],
            "image/png": "[encoded data removed]"
          },
          "metadata": {
            "needs_background": "light"
          }
        }
      ]
    },
    {
      "cell_type": "markdown",
      "source": [
        "# Correlation Between Money Invested/Earned and Movie Scores\n",
        "\n",
        "There is some correlation between the box office sales and average movie score, R-value of 0.377, which is logical(better sales = higher rated movies).\n",
        "\n",
        "There seems to be no correlation between a movie's budget and its average score given an R-value of 0.044.\n",
        "\n",
        "There appears to be some correlation between a movie's budget and box office sales given an R-value of 0.390(larger budget = better sales on release)."
      ],
      "metadata": {
        "id": "0qskfH4BIUZs"
      }
    },
    {
      "cell_type": "code",
      "source": [
        "df_movie_reviews.drop_duplicates(subset=['Movie']).corr()"
      ],
      "metadata": {
        "colab": {
          "base_uri": "https://localhost:8080/",
          "height": 765
        },
        "id": "wNrX0HguLQpJ",
        "outputId": "07e43bf9-cbc1-45d3-e401-6c80a038be7d"
      },
      "execution_count": 10,
      "outputs": [
        {
          "output_type": "execute_result",
          "data": {
            "text/plain": [
              "                        Score  Average Movie Score    budget  box office  \\\n",
              "Score                1.000000             0.651277 -0.026708    0.382247   \n",
              "Average Movie Score  0.651277             1.000000  0.043995    0.376900   \n",
              "budget              -0.026708             0.043995  1.000000    0.389770   \n",
              "box office           0.382247             0.376900  0.389770    1.000000   \n",
              "Action              -0.195803            -0.220020  0.232492    0.101742   \n",
              "Adventure           -0.199114            -0.139090  0.093083   -0.047472   \n",
              "Animation            0.210951             0.288293 -0.186552    0.010579   \n",
              "Comedy               0.142156             0.230741 -0.136427    0.017611   \n",
              "Crime                0.051748             0.010160  0.160046    0.145912   \n",
              "Drama                0.087160             0.154954 -0.126940   -0.040541   \n",
              "Family               0.106745             0.130626 -0.206428   -0.139836   \n",
              "Fantasy             -0.179899            -0.256668  0.095147   -0.052106   \n",
              "Mystery             -0.010678             0.071466 -0.128882   -0.103264   \n",
              "Romance              0.047140             0.061911 -0.090789    0.084294   \n",
              "Science Fiction     -0.075539            -0.012638  0.041801    0.047688   \n",
              "Thriller            -0.092902            -0.015018 -0.032218    0.044154   \n",
              "War                  0.081962             0.135992 -0.089716   -0.065501   \n",
              "Western             -0.115951            -0.102683  0.075093   -0.173809   \n",
              "\n",
              "                       Action  Adventure  Animation    Comedy     Crime  \\\n",
              "Score               -0.195803  -0.199114   0.210951  0.142156  0.051748   \n",
              "Average Movie Score -0.220020  -0.139090   0.288293  0.230741  0.010160   \n",
              "budget               0.232492   0.093083  -0.186552 -0.136427  0.160046   \n",
              "box office           0.101742  -0.047472   0.010579  0.017611  0.145912   \n",
              "Action               1.000000   0.278250  -0.585142 -0.297802  0.189484   \n",
              "Adventure            0.278250   1.000000  -0.095841 -0.004245 -0.179882   \n",
              "Animation           -0.585142  -0.095841   1.000000  0.570294 -0.130259   \n",
              "Comedy              -0.297802  -0.004245   0.570294  1.000000 -0.101936   \n",
              "Crime                0.189484  -0.179882  -0.130259 -0.101936  1.000000   \n",
              "Drama               -0.268998  -0.289542  -0.024325 -0.049738  0.045756   \n",
              "Family              -0.646693  -0.067369   0.751581  0.464596 -0.173313   \n",
              "Fantasy              0.069886   0.120963  -0.223911 -0.054380 -0.097110   \n",
              "Mystery             -0.165851  -0.145335  -0.105242 -0.082359 -0.051571   \n",
              "Romance             -0.059536  -0.145335  -0.105242 -0.082359 -0.051571   \n",
              "Science Fiction      0.402164   0.242563  -0.395118 -0.249512 -0.106402   \n",
              "Thriller             0.188710  -0.269678  -0.241560 -0.189036  0.320037   \n",
              "War                 -0.134005  -0.194933  -0.051818 -0.040551 -0.025392   \n",
              "Western              0.107143  -0.101713  -0.073654 -0.057639 -0.036092   \n",
              "\n",
              "                        Drama    Family   Fantasy   Mystery   Romance  \\\n",
              "Score                0.087160  0.106745 -0.179899 -0.010678  0.047140   \n",
              "Average Movie Score  0.154954  0.130626 -0.256668  0.071466  0.061911   \n",
              "budget              -0.126940 -0.206428  0.095147 -0.128882 -0.090789   \n",
              "box office          -0.040541 -0.139836 -0.052106 -0.103264  0.084294   \n",
              "Action              -0.268998 -0.646693  0.069886 -0.165851 -0.059536   \n",
              "Adventure           -0.289542 -0.067369  0.120963 -0.145335 -0.145335   \n",
              "Animation           -0.024325  0.751581 -0.223911 -0.105242 -0.105242   \n",
              "Comedy              -0.049738  0.464596 -0.054380 -0.082359 -0.082359   \n",
              "Crime                0.045756 -0.173313 -0.097110 -0.051571 -0.051571   \n",
              "Drama                1.000000 -0.035627 -0.056956  0.091334  0.254430   \n",
              "Family              -0.035627  1.000000  0.035956 -0.030631 -0.030631   \n",
              "Fantasy             -0.056956  0.035956  1.000000 -0.042796  0.171184   \n",
              "Mystery              0.091334 -0.030631 -0.042796  1.000000  0.218750   \n",
              "Romance              0.254430 -0.030631  0.171184  0.218750  1.000000   \n",
              "Science Fiction     -0.137028 -0.481314 -0.345227  0.054963 -0.156432   \n",
              "Thriller             0.168042 -0.321403 -0.289229  0.302849  0.170020   \n",
              "War                  0.285878 -0.068945 -0.073750 -0.020515 -0.020515   \n",
              "Western             -0.050223 -0.097999 -0.104828 -0.029161 -0.029161   \n",
              "\n",
              "                     Science Fiction  Thriller       War   Western  \n",
              "Score                      -0.075539 -0.092902  0.081962 -0.115951  \n",
              "Average Movie Score        -0.012638 -0.015018  0.135992 -0.102683  \n",
              "budget                      0.041801 -0.032218 -0.089716  0.075093  \n",
              "box office                  0.047688  0.044154 -0.065501 -0.173809  \n",
              "Action                      0.402164  0.188710 -0.134005  0.107143  \n",
              "Adventure                   0.242563 -0.269678 -0.194933 -0.101713  \n",
              "Animation                  -0.395118 -0.241560 -0.051818 -0.073654  \n",
              "Comedy                     -0.249512 -0.189036 -0.040551 -0.057639  \n",
              "Crime                      -0.106402  0.320037 -0.025392 -0.036092  \n",
              "Drama                      -0.137028  0.168042  0.285878 -0.050223  \n",
              "Family                     -0.481314 -0.321403 -0.068945 -0.097999  \n",
              "Fantasy                    -0.345227 -0.289229 -0.073750 -0.104828  \n",
              "Mystery                     0.054963  0.302849 -0.020515 -0.029161  \n",
              "Romance                    -0.156432  0.170020 -0.020515 -0.029161  \n",
              "Science Fiction             1.000000  0.126154  0.131145  0.038466  \n",
              "Thriller                    0.126154  1.000000 -0.047088  0.118990  \n",
              "War                         0.131145 -0.047088  1.000000 -0.014358  \n",
              "Western                     0.038466  0.118990 -0.014358  1.000000  "
            ],
            "text/html": [
              "\n",
              "  <div id=\"df-5c177ebe-2ca2-4754-b702-a9aca7d3d5df\">\n",
              "    <div class=\"colab-df-container\">\n",
              "      <div>\n",
              "<style scoped>\n",
              "    .dataframe tbody tr th:only-of-type {\n",
              "        vertical-align: middle;\n",
              "    }\n",
              "\n",
              "    .dataframe tbody tr th {\n",
              "        vertical-align: top;\n",
              "    }\n",
              "\n",
              "    .dataframe thead th {\n",
              "        text-align: right;\n",
              "    }\n",
              "</style>\n",
              "<table border=\"1\" class=\"dataframe\">\n",
              "  <thead>\n",
              "    <tr style=\"text-align: right;\">\n",
              "      <th></th>\n",
              "      <th>Score</th>\n",
              "      <th>Average Movie Score</th>\n",
              "      <th>budget</th>\n",
              "      <th>box office</th>\n",
              "      <th>Action</th>\n",
              "      <th>Adventure</th>\n",
              "      <th>Animation</th>\n",
              "      <th>Comedy</th>\n",
              "      <th>Crime</th>\n",
              "      <th>Drama</th>\n",
              "      <th>Family</th>\n",
              "      <th>Fantasy</th>\n",
              "      <th>Mystery</th>\n",
              "      <th>Romance</th>\n",
              "      <th>Science Fiction</th>\n",
              "      <th>Thriller</th>\n",
              "      <th>War</th>\n",
              "      <th>Western</th>\n",
              "    </tr>\n",
              "  </thead>\n",
              "  <tbody>\n",
              "    <tr>\n",
              "      <th>Score</th>\n",
              "      <td>1.000000</td>\n",
              "      <td>0.651277</td>\n",
              "      <td>-0.026708</td>\n",
              "      <td>0.382247</td>\n",
              "      <td>-0.195803</td>\n",
              "      <td>-0.199114</td>\n",
              "      <td>0.210951</td>\n",
              "      <td>0.142156</td>\n",
              "      <td>0.051748</td>\n",
              "      <td>0.087160</td>\n",
              "      <td>0.106745</td>\n",
              "      <td>-0.179899</td>\n",
              "      <td>-0.010678</td>\n",
              "      <td>0.047140</td>\n",
              "      <td>-0.075539</td>\n",
              "      <td>-0.092902</td>\n",
              "      <td>0.081962</td>\n",
              "      <td>-0.115951</td>\n",
              "    </tr>\n",
              "    <tr>\n",
              "      <th>Average Movie Score</th>\n",
              "      <td>0.651277</td>\n",
              "      <td>1.000000</td>\n",
              "      <td>0.043995</td>\n",
              "      <td>0.376900</td>\n",
              "      <td>-0.220020</td>\n",
              "      <td>-0.139090</td>\n",
              "      <td>0.288293</td>\n",
              "      <td>0.230741</td>\n",
              "      <td>0.010160</td>\n",
              "      <td>0.154954</td>\n",
              "      <td>0.130626</td>\n",
              "      <td>-0.256668</td>\n",
              "      <td>0.071466</td>\n",
              "      <td>0.061911</td>\n",
              "      <td>-0.012638</td>\n",
              "      <td>-0.015018</td>\n",
              "      <td>0.135992</td>\n",
              "      <td>-0.102683</td>\n",
              "    </tr>\n",
              "    <tr>\n",
              "      <th>budget</th>\n",
              "      <td>-0.026708</td>\n",
              "      <td>0.043995</td>\n",
              "      <td>1.000000</td>\n",
              "      <td>0.389770</td>\n",
              "      <td>0.232492</td>\n",
              "      <td>0.093083</td>\n",
              "      <td>-0.186552</td>\n",
              "      <td>-0.136427</td>\n",
              "      <td>0.160046</td>\n",
              "      <td>-0.126940</td>\n",
              "      <td>-0.206428</td>\n",
              "      <td>0.095147</td>\n",
              "      <td>-0.128882</td>\n",
              "      <td>-0.090789</td>\n",
              "      <td>0.041801</td>\n",
              "      <td>-0.032218</td>\n",
              "      <td>-0.089716</td>\n",
              "      <td>0.075093</td>\n",
              "    </tr>\n",
              "    <tr>\n",
              "      <th>box office</th>\n",
              "      <td>0.382247</td>\n",
              "      <td>0.376900</td>\n",
              "      <td>0.389770</td>\n",
              "      <td>1.000000</td>\n",
              "      <td>0.101742</td>\n",
              "      <td>-0.047472</td>\n",
              "      <td>0.010579</td>\n",
              "      <td>0.017611</td>\n",
              "      <td>0.145912</td>\n",
              "      <td>-0.040541</td>\n",
              "      <td>-0.139836</td>\n",
              "      <td>-0.052106</td>\n",
              "      <td>-0.103264</td>\n",
              "      <td>0.084294</td>\n",
              "      <td>0.047688</td>\n",
              "      <td>0.044154</td>\n",
              "      <td>-0.065501</td>\n",
              "      <td>-0.173809</td>\n",
              "    </tr>\n",
              "    <tr>\n",
              "      <th>Action</th>\n",
              "      <td>-0.195803</td>\n",
              "      <td>-0.220020</td>\n",
              "      <td>0.232492</td>\n",
              "      <td>0.101742</td>\n",
              "      <td>1.000000</td>\n",
              "      <td>0.278250</td>\n",
              "      <td>-0.585142</td>\n",
              "      <td>-0.297802</td>\n",
              "      <td>0.189484</td>\n",
              "      <td>-0.268998</td>\n",
              "      <td>-0.646693</td>\n",
              "      <td>0.069886</td>\n",
              "      <td>-0.165851</td>\n",
              "      <td>-0.059536</td>\n",
              "      <td>0.402164</td>\n",
              "      <td>0.188710</td>\n",
              "      <td>-0.134005</td>\n",
              "      <td>0.107143</td>\n",
              "    </tr>\n",
              "    <tr>\n",
              "      <th>Adventure</th>\n",
              "      <td>-0.199114</td>\n",
              "      <td>-0.139090</td>\n",
              "      <td>0.093083</td>\n",
              "      <td>-0.047472</td>\n",
              "      <td>0.278250</td>\n",
              "      <td>1.000000</td>\n",
              "      <td>-0.095841</td>\n",
              "      <td>-0.004245</td>\n",
              "      <td>-0.179882</td>\n",
              "      <td>-0.289542</td>\n",
              "      <td>-0.067369</td>\n",
              "      <td>0.120963</td>\n",
              "      <td>-0.145335</td>\n",
              "      <td>-0.145335</td>\n",
              "      <td>0.242563</td>\n",
              "      <td>-0.269678</td>\n",
              "      <td>-0.194933</td>\n",
              "      <td>-0.101713</td>\n",
              "    </tr>\n",
              "    <tr>\n",
              "      <th>Animation</th>\n",
              "      <td>0.210951</td>\n",
              "      <td>0.288293</td>\n",
              "      <td>-0.186552</td>\n",
              "      <td>0.010579</td>\n",
              "      <td>-0.585142</td>\n",
              "      <td>-0.095841</td>\n",
              "      <td>1.000000</td>\n",
              "      <td>0.570294</td>\n",
              "      <td>-0.130259</td>\n",
              "      <td>-0.024325</td>\n",
              "      <td>0.751581</td>\n",
              "      <td>-0.223911</td>\n",
              "      <td>-0.105242</td>\n",
              "      <td>-0.105242</td>\n",
              "      <td>-0.395118</td>\n",
              "      <td>-0.241560</td>\n",
              "      <td>-0.051818</td>\n",
              "      <td>-0.073654</td>\n",
              "    </tr>\n",
              "    <tr>\n",
              "      <th>Comedy</th>\n",
              "      <td>0.142156</td>\n",
              "      <td>0.230741</td>\n",
              "      <td>-0.136427</td>\n",
              "      <td>0.017611</td>\n",
              "      <td>-0.297802</td>\n",
              "      <td>-0.004245</td>\n",
              "      <td>0.570294</td>\n",
              "      <td>1.000000</td>\n",
              "      <td>-0.101936</td>\n",
              "      <td>-0.049738</td>\n",
              "      <td>0.464596</td>\n",
              "      <td>-0.054380</td>\n",
              "      <td>-0.082359</td>\n",
              "      <td>-0.082359</td>\n",
              "      <td>-0.249512</td>\n",
              "      <td>-0.189036</td>\n",
              "      <td>-0.040551</td>\n",
              "      <td>-0.057639</td>\n",
              "    </tr>\n",
              "    <tr>\n",
              "      <th>Crime</th>\n",
              "      <td>0.051748</td>\n",
              "      <td>0.010160</td>\n",
              "      <td>0.160046</td>\n",
              "      <td>0.145912</td>\n",
              "      <td>0.189484</td>\n",
              "      <td>-0.179882</td>\n",
              "      <td>-0.130259</td>\n",
              "      <td>-0.101936</td>\n",
              "      <td>1.000000</td>\n",
              "      <td>0.045756</td>\n",
              "      <td>-0.173313</td>\n",
              "      <td>-0.097110</td>\n",
              "      <td>-0.051571</td>\n",
              "      <td>-0.051571</td>\n",
              "      <td>-0.106402</td>\n",
              "      <td>0.320037</td>\n",
              "      <td>-0.025392</td>\n",
              "      <td>-0.036092</td>\n",
              "    </tr>\n",
              "    <tr>\n",
              "      <th>Drama</th>\n",
              "      <td>0.087160</td>\n",
              "      <td>0.154954</td>\n",
              "      <td>-0.126940</td>\n",
              "      <td>-0.040541</td>\n",
              "      <td>-0.268998</td>\n",
              "      <td>-0.289542</td>\n",
              "      <td>-0.024325</td>\n",
              "      <td>-0.049738</td>\n",
              "      <td>0.045756</td>\n",
              "      <td>1.000000</td>\n",
              "      <td>-0.035627</td>\n",
              "      <td>-0.056956</td>\n",
              "      <td>0.091334</td>\n",
              "      <td>0.254430</td>\n",
              "      <td>-0.137028</td>\n",
              "      <td>0.168042</td>\n",
              "      <td>0.285878</td>\n",
              "      <td>-0.050223</td>\n",
              "    </tr>\n",
              "    <tr>\n",
              "      <th>Family</th>\n",
              "      <td>0.106745</td>\n",
              "      <td>0.130626</td>\n",
              "      <td>-0.206428</td>\n",
              "      <td>-0.139836</td>\n",
              "      <td>-0.646693</td>\n",
              "      <td>-0.067369</td>\n",
              "      <td>0.751581</td>\n",
              "      <td>0.464596</td>\n",
              "      <td>-0.173313</td>\n",
              "      <td>-0.035627</td>\n",
              "      <td>1.000000</td>\n",
              "      <td>0.035956</td>\n",
              "      <td>-0.030631</td>\n",
              "      <td>-0.030631</td>\n",
              "      <td>-0.481314</td>\n",
              "      <td>-0.321403</td>\n",
              "      <td>-0.068945</td>\n",
              "      <td>-0.097999</td>\n",
              "    </tr>\n",
              "    <tr>\n",
              "      <th>Fantasy</th>\n",
              "      <td>-0.179899</td>\n",
              "      <td>-0.256668</td>\n",
              "      <td>0.095147</td>\n",
              "      <td>-0.052106</td>\n",
              "      <td>0.069886</td>\n",
              "      <td>0.120963</td>\n",
              "      <td>-0.223911</td>\n",
              "      <td>-0.054380</td>\n",
              "      <td>-0.097110</td>\n",
              "      <td>-0.056956</td>\n",
              "      <td>0.035956</td>\n",
              "      <td>1.000000</td>\n",
              "      <td>-0.042796</td>\n",
              "      <td>0.171184</td>\n",
              "      <td>-0.345227</td>\n",
              "      <td>-0.289229</td>\n",
              "      <td>-0.073750</td>\n",
              "      <td>-0.104828</td>\n",
              "    </tr>\n",
              "    <tr>\n",
              "      <th>Mystery</th>\n",
              "      <td>-0.010678</td>\n",
              "      <td>0.071466</td>\n",
              "      <td>-0.128882</td>\n",
              "      <td>-0.103264</td>\n",
              "      <td>-0.165851</td>\n",
              "      <td>-0.145335</td>\n",
              "      <td>-0.105242</td>\n",
              "      <td>-0.082359</td>\n",
              "      <td>-0.051571</td>\n",
              "      <td>0.091334</td>\n",
              "      <td>-0.030631</td>\n",
              "      <td>-0.042796</td>\n",
              "      <td>1.000000</td>\n",
              "      <td>0.218750</td>\n",
              "      <td>0.054963</td>\n",
              "      <td>0.302849</td>\n",
              "      <td>-0.020515</td>\n",
              "      <td>-0.029161</td>\n",
              "    </tr>\n",
              "    <tr>\n",
              "      <th>Romance</th>\n",
              "      <td>0.047140</td>\n",
              "      <td>0.061911</td>\n",
              "      <td>-0.090789</td>\n",
              "      <td>0.084294</td>\n",
              "      <td>-0.059536</td>\n",
              "      <td>-0.145335</td>\n",
              "      <td>-0.105242</td>\n",
              "      <td>-0.082359</td>\n",
              "      <td>-0.051571</td>\n",
              "      <td>0.254430</td>\n",
              "      <td>-0.030631</td>\n",
              "      <td>0.171184</td>\n",
              "      <td>0.218750</td>\n",
              "      <td>1.000000</td>\n",
              "      <td>-0.156432</td>\n",
              "      <td>0.170020</td>\n",
              "      <td>-0.020515</td>\n",
              "      <td>-0.029161</td>\n",
              "    </tr>\n",
              "    <tr>\n",
              "      <th>Science Fiction</th>\n",
              "      <td>-0.075539</td>\n",
              "      <td>-0.012638</td>\n",
              "      <td>0.041801</td>\n",
              "      <td>0.047688</td>\n",
              "      <td>0.402164</td>\n",
              "      <td>0.242563</td>\n",
              "      <td>-0.395118</td>\n",
              "      <td>-0.249512</td>\n",
              "      <td>-0.106402</td>\n",
              "      <td>-0.137028</td>\n",
              "      <td>-0.481314</td>\n",
              "      <td>-0.345227</td>\n",
              "      <td>0.054963</td>\n",
              "      <td>-0.156432</td>\n",
              "      <td>1.000000</td>\n",
              "      <td>0.126154</td>\n",
              "      <td>0.131145</td>\n",
              "      <td>0.038466</td>\n",
              "    </tr>\n",
              "    <tr>\n",
              "      <th>Thriller</th>\n",
              "      <td>-0.092902</td>\n",
              "      <td>-0.015018</td>\n",
              "      <td>-0.032218</td>\n",
              "      <td>0.044154</td>\n",
              "      <td>0.188710</td>\n",
              "      <td>-0.269678</td>\n",
              "      <td>-0.241560</td>\n",
              "      <td>-0.189036</td>\n",
              "      <td>0.320037</td>\n",
              "      <td>0.168042</td>\n",
              "      <td>-0.321403</td>\n",
              "      <td>-0.289229</td>\n",
              "      <td>0.302849</td>\n",
              "      <td>0.170020</td>\n",
              "      <td>0.126154</td>\n",
              "      <td>1.000000</td>\n",
              "      <td>-0.047088</td>\n",
              "      <td>0.118990</td>\n",
              "    </tr>\n",
              "    <tr>\n",
              "      <th>War</th>\n",
              "      <td>0.081962</td>\n",
              "      <td>0.135992</td>\n",
              "      <td>-0.089716</td>\n",
              "      <td>-0.065501</td>\n",
              "      <td>-0.134005</td>\n",
              "      <td>-0.194933</td>\n",
              "      <td>-0.051818</td>\n",
              "      <td>-0.040551</td>\n",
              "      <td>-0.025392</td>\n",
              "      <td>0.285878</td>\n",
              "      <td>-0.068945</td>\n",
              "      <td>-0.073750</td>\n",
              "      <td>-0.020515</td>\n",
              "      <td>-0.020515</td>\n",
              "      <td>0.131145</td>\n",
              "      <td>-0.047088</td>\n",
              "      <td>1.000000</td>\n",
              "      <td>-0.014358</td>\n",
              "    </tr>\n",
              "    <tr>\n",
              "      <th>Western</th>\n",
              "      <td>-0.115951</td>\n",
              "      <td>-0.102683</td>\n",
              "      <td>0.075093</td>\n",
              "      <td>-0.173809</td>\n",
              "      <td>0.107143</td>\n",
              "      <td>-0.101713</td>\n",
              "      <td>-0.073654</td>\n",
              "      <td>-0.057639</td>\n",
              "      <td>-0.036092</td>\n",
              "      <td>-0.050223</td>\n",
              "      <td>-0.097999</td>\n",
              "      <td>-0.104828</td>\n",
              "      <td>-0.029161</td>\n",
              "      <td>-0.029161</td>\n",
              "      <td>0.038466</td>\n",
              "      <td>0.118990</td>\n",
              "      <td>-0.014358</td>\n",
              "      <td>1.000000</td>\n",
              "    </tr>\n",
              "  </tbody>\n",
              "</table>\n",
              "</div>\n",
              "      <button class=\"colab-df-convert\" onclick=\"convertToInteractive('df-5c177ebe-2ca2-4754-b702-a9aca7d3d5df')\"\n",
              "              title=\"Convert this dataframe to an interactive table.\"\n",
              "              style=\"display:none;\">\n",
              "        \n",
              "  <svg xmlns=\"http://www.w3.org/2000/svg\" height=\"24px\"viewBox=\"0 0 24 24\"\n",
              "       width=\"24px\">\n",
              "    <path d=\"M0 0h24v24H0V0z\" fill=\"none\"/>\n",
              "    <path d=\"M18.56 5.44l.94 2.06.94-2.06 2.06-.94-2.06-.94-.94-2.06-.94 2.06-2.06.94zm-11 1L8.5 8.5l.94-2.06 2.06-.94-2.06-.94L8.5 2.5l-.94 2.06-2.06.94zm10 10l.94 2.06.94-2.06 2.06-.94-2.06-.94-.94-2.06-.94 2.06-2.06.94z\"/><path d=\"M17.41 7.96l-1.37-1.37c-.4-.4-.92-.59-1.43-.59-.52 0-1.04.2-1.43.59L10.3 9.45l-7.72 7.72c-.78.78-.78 2.05 0 2.83L4 21.41c.39.39.9.59 1.41.59.51 0 1.02-.2 1.41-.59l7.78-7.78 2.81-2.81c.8-.78.8-2.07 0-2.86zM5.41 20L4 18.59l7.72-7.72 1.47 1.35L5.41 20z\"/>\n",
              "  </svg>\n",
              "      </button>\n",
              "      \n",
              "  <style>\n",
              "    .colab-df-container {\n",
              "      display:flex;\n",
              "      flex-wrap:wrap;\n",
              "      gap: 12px;\n",
              "    }\n",
              "\n",
              "    .colab-df-convert {\n",
              "      background-color: #E8F0FE;\n",
              "      border: none;\n",
              "      border-radius: 50%;\n",
              "      cursor: pointer;\n",
              "      display: none;\n",
              "      fill: #1967D2;\n",
              "      height: 32px;\n",
              "      padding: 0 0 0 0;\n",
              "      width: 32px;\n",
              "    }\n",
              "\n",
              "    .colab-df-convert:hover {\n",
              "      background-color: #E2EBFA;\n",
              "      box-shadow: 0px 1px 2px rgba(60, 64, 67, 0.3), 0px 1px 3px 1px rgba(60, 64, 67, 0.15);\n",
              "      fill: #174EA6;\n",
              "    }\n",
              "\n",
              "    [theme=dark] .colab-df-convert {\n",
              "      background-color: #3B4455;\n",
              "      fill: #D2E3FC;\n",
              "    }\n",
              "\n",
              "    [theme=dark] .colab-df-convert:hover {\n",
              "      background-color: #434B5C;\n",
              "      box-shadow: 0px 1px 3px 1px rgba(0, 0, 0, 0.15);\n",
              "      filter: drop-shadow(0px 1px 2px rgba(0, 0, 0, 0.3));\n",
              "      fill: #FFFFFF;\n",
              "    }\n",
              "  </style>\n",
              "\n",
              "      <script>\n",
              "        const buttonEl =\n",
              "          document.querySelector('#df-5c177ebe-2ca2-4754-b702-a9aca7d3d5df button.colab-df-convert');\n",
              "        buttonEl.style.display =\n",
              "          google.colab.kernel.accessAllowed ? 'block' : 'none';\n",
              "\n",
              "        async function convertToInteractive(key) {\n",
              "          const element = document.querySelector('#df-5c177ebe-2ca2-4754-b702-a9aca7d3d5df');\n",
              "          const dataTable =\n",
              "            await google.colab.kernel.invokeFunction('convertToInteractive',\n",
              "                                                     [key], {});\n",
              "          if (!dataTable) return;\n",
              "\n",
              "          const docLinkHtml = 'Like what you see? Visit the ' +\n",
              "            '<a target=\"_blank\" href=https://colab.research.google.com/notebooks/data_table.ipynb>data table notebook</a>'\n",
              "            + ' to learn more about interactive tables.';\n",
              "          element.innerHTML = '';\n",
              "          dataTable['output_type'] = 'display_data';\n",
              "          await google.colab.output.renderOutput(dataTable, element);\n",
              "          const docLink = document.createElement('div');\n",
              "          docLink.innerHTML = docLinkHtml;\n",
              "          element.appendChild(docLink);\n",
              "        }\n",
              "      </script>\n",
              "    </div>\n",
              "  </div>\n",
              "  "
            ]
          },
          "metadata": {},
          "execution_count": 10
        }
      ]
    },
    {
      "cell_type": "code",
      "source": [
        "df_movie_reviews.drop_duplicates(subset=['Movie']).plot.scatter(x=\"box office\", y=\"Average Movie Score\")\n",
        "df_movie_reviews.drop_duplicates(subset=['Movie']).plot.scatter(x=\"budget\", y=\"Average Movie Score\")\n",
        "df_movie_reviews.drop_duplicates(subset=['Movie']).plot.scatter(x=\"budget\", y=\"box office\")"
      ],
      "metadata": {
        "colab": {
          "base_uri": "https://localhost:8080/",
          "height": 831
        },
        "id": "kk3MoZNyMNLI",
        "outputId": "bdadc326-e6dc-4226-88df-b89903d5d67b"
      },
      "execution_count": 11,
      "outputs": [
        {
          "output_type": "execute_result",
          "data": {
            "text/plain": [
              "<matplotlib.axes._subplots.AxesSubplot at 0x7f7135cb2a90>"
            ]
          },
          "metadata": {},
          "execution_count": 11
        },
        {
          "output_type": "display_data",
          "data": {
            "text/plain": [
              "<Figure size 432x288 with 1 Axes>"
            ],
            "image/png": "[encoded data removed]"
          },
          "metadata": {
            "needs_background": "light"
          }
        },
        {
          "output_type": "display_data",
          "data": {
            "text/plain": [
              "<Figure size 432x288 with 1 Axes>"
            ],
            "image/png": "[encoded data removed]"
          },
          "metadata": {
            "needs_background": "light"
          }
        },
        {
          "output_type": "display_data",
          "data": {
            "text/plain": [
              "<Figure size 432x288 with 1 Axes>"
            ],
            "image/png": "[encoded data removed]"
          },
          "metadata": {
            "needs_background": "light"
          }
        }
      ]
    }
  ]
}