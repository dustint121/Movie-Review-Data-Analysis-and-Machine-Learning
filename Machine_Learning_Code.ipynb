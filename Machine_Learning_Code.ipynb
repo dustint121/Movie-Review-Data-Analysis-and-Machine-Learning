{
  "nbformat": 4,
  "nbformat_minor": 0,
  "metadata": {
    "colab": {
      "provenance": []
    },
    "kernelspec": {
      "name": "python3",
      "display_name": "Python 3"
    },
    "language_info": {
      "name": "python"
    }
  },
  "cells": [
    {
      "cell_type": "code",
      "execution_count": 16,
      "metadata": {
        "colab": {
          "base_uri": "https://localhost:8080/"
        },
        "id": "TuSjTXaB_tfx",
        "outputId": "42d2c890-537b-4933-e4cf-030f8837ba8c"
      },
      "outputs": [
        {
          "output_type": "execute_result",
          "data": {
            "text/plain": [
              "Movie                                                           47 RONIN\n",
              "Review                 Heavy on CGI, light on entertainment, 47 Ronin...\n",
              "Score                                                               40.0\n",
              "Average Movie Score                                                 44.5\n",
              "Film Rating                                                       PG-13 \n",
              "Description            Based on the original 1941 movie from Japan, a...\n",
              "budget                                                       175000000.0\n",
              "box office                                                   150962475.0\n",
              "all genres                                Action|Adventure|Drama|Fantasy\n",
              "Action                                                                 1\n",
              "Adventure                                                              1\n",
              "Animation                                                              0\n",
              "Comedy                                                                 0\n",
              "Crime                                                                  0\n",
              "Drama                                                                  1\n",
              "Family                                                                 0\n",
              "Fantasy                                                                1\n",
              "Mystery                                                                0\n",
              "Romance                                                                0\n",
              "Science Fiction                                                        0\n",
              "Thriller                                                               0\n",
              "War                                                                    0\n",
              "Western                                                                0\n",
              "Name: 0, dtype: object"
            ]
          },
          "metadata": {},
          "execution_count": 16
        }
      ],
      "source": [
        "import pandas as pd\n",
        "import numpy as np\n",
        "import matplotlib.pyplot as plt\n",
        "\n",
        "df_movie_reviews = pd.read_csv(\"movie_reviews_with_info.csv\", index_col=0)\n",
        "df_movie_reviews.loc[0]"
      ]
    },
    {
      "cell_type": "code",
      "source": [],
      "metadata": {
        "id": "wjT_kb__ifRd"
      },
      "execution_count": null,
      "outputs": []
    },
    {
      "cell_type": "code",
      "source": [
        "len(df_movie_reviews)"
      ],
      "metadata": {
        "colab": {
          "base_uri": "https://localhost:8080/"
        },
        "id": "yWG4QyFL84CN",
        "outputId": "9aab1b0e-bb7f-4a2c-dfb1-e50c11c0b1db"
      },
      "execution_count": 17,
      "outputs": [
        {
          "output_type": "execute_result",
          "data": {
            "text/plain": [
              "18713"
            ]
          },
          "metadata": {},
          "execution_count": 17
        }
      ]
    },
    {
      "cell_type": "markdown",
      "source": [
        "# Machine Learning to Predict Individual Critic Scores\n",
        "Given all the variables available to us, our most optimal setup gives us predictions 17.09 points off on average(RSME) with the following configuration:\n",
        "\n",
        "\n",
        "*   Linear Regression() >    KNeighborsRegressor(n_neighbors=19)\n",
        "*   TfidfVectorizer(max_features=2000)\n",
        "*   Variables: 'Review', 'box office', and Individual Genres(Comedy, Action, etc..)\n",
        "\n",
        "Sadly, this is based on a 0-100 scoring system, so this prediction algorithm still cannot be said to be particularly accurate. \n",
        "\n",
        "We can conclude that we are unable to accurately predict what a critic's score will be for a movie just based on the data we currently have."
      ],
      "metadata": {
        "id": "Dd6Y-0C5e8nw"
      }
    },
    {
      "cell_type": "code",
      "source": [
        "from sklearn.compose import make_column_transformer\n",
        "from sklearn.preprocessing import StandardScaler, OneHotEncoder\n",
        "from sklearn.linear_model import LinearRegression\n",
        "from sklearn.ensemble import GradientBoostingRegressor\n",
        "from sklearn.pipeline import make_pipeline\n",
        "from sklearn.neighbors import KNeighborsRegressor\n",
        "from sklearn.feature_extraction.text import TfidfVectorizer\n",
        "from sklearn.metrics import mean_squared_error, mean_absolute_error\n",
        "from sklearn.model_selection import GridSearchCV\n",
        "from sklearn.model_selection import cross_val_score"
      ],
      "metadata": {
        "id": "RCaInRj5fCxN"
      },
      "execution_count": 18,
      "outputs": []
    },
    {
      "cell_type": "code",
      "source": [
        "X_train = df_movie_reviews\n",
        "y_train = X_train[\"Score\"]\n",
        "genres = df_movie_reviews.columns[9:]"
      ],
      "metadata": {
        "id": "gjFFrDYSgBv1"
      },
      "execution_count": 19,
      "outputs": []
    },
    {
      "cell_type": "markdown",
      "source": [
        "## Linear Regression"
      ],
      "metadata": {
        "id": "4NCyY6dXFgGy"
      }
    },
    {
      "cell_type": "code",
      "source": [
        "#test with linear regression with top 2000 words(obtained from trial and error) in tf-idf\n",
        "ct = make_column_transformer(\n",
        "    (TfidfVectorizer(max_features=2000), \"Review\"),\n",
        "    remainder=\"drop\"  # all other columns in X will be dropped.\n",
        ")\n",
        "\n",
        "linear_model = make_pipeline(\n",
        "            ct,\n",
        "            LinearRegression()\n",
        "            )\n",
        "\n",
        "scores = cross_val_score(linear_model, \n",
        "                         X=X_train,\n",
        "                         y=y_train,\n",
        "                         scoring=\"neg_mean_squared_error\",\n",
        "                         cv=20)\n",
        "\n",
        "print(\"[Review]: \" + str(np.sqrt(-scores).mean()))\n",
        "\n",
        "#[Review]: 17.47439931329904 #with top 2000 words"
      ],
      "metadata": {
        "colab": {
          "base_uri": "https://localhost:8080/"
        },
        "id": "MYYtSyVdEVU7",
        "outputId": "9480ecac-3f1d-482b-dd9b-a37fcf2f99bc"
      },
      "execution_count": 8,
      "outputs": [
        {
          "output_type": "stream",
          "name": "stdout",
          "text": [
            "[Review]: 17.47439931329904\n"
          ]
        }
      ]
    },
    {
      "cell_type": "code",
      "source": [
        "for columns_to_standard in [[], [\"budget\"], [\"box office\"], [\"budget\", \"box office\"], ]:\n",
        "  for columns_to_encode in [[], [\"all genres\"]]: \n",
        "    for ct_val in [1, 2]: \n",
        "      ct = None\n",
        "      if ct_val == 1:\n",
        "        ct = make_column_transformer(\n",
        "            (TfidfVectorizer(max_features=2000), \"Review\"),\n",
        "            (OneHotEncoder(handle_unknown = 'ignore'), columns_to_encode),\n",
        "            (StandardScaler(), columns_to_standard),\n",
        "            remainder=\"drop\"  # all other columns in X will be dropped.\n",
        "          )\n",
        "      if ct_val == 2:\n",
        "        ct = make_column_transformer(\n",
        "            (TfidfVectorizer(max_features=2000), \"Review\"),\n",
        "            (TfidfVectorizer(max_features=2000), \"Description\"),\n",
        "            (OneHotEncoder(handle_unknown = 'ignore'), columns_to_encode),\n",
        "            (StandardScaler(), columns_to_standard),\n",
        "            remainder=\"drop\"  # all other columns in X will be dropped.\n",
        "          )       \n",
        "\n",
        "      pipeline = make_pipeline(\n",
        "                  ct,\n",
        "                  LinearRegression()\n",
        "                  )\n",
        "\n",
        "      scores = cross_val_score(pipeline, \n",
        "                              X=X_train,\n",
        "                              y=y_train,\n",
        "                              scoring=\"neg_mean_squared_error\",\n",
        "                              cv=20)\n",
        "      columns = [\"Review\"] + columns_to_standard + columns_to_encode\n",
        "      if ct_val == 2:\n",
        "        columns = [\"Review\", \"Description\"] + columns_to_standard + columns_to_encode\n",
        "\n",
        "      \n",
        "      print(str(np.sqrt(-scores).mean()) + \": \" + str(columns))"
      ],
      "metadata": {
        "colab": {
          "base_uri": "https://localhost:8080/"
        },
        "id": "4GmCT4QPH4bH",
        "outputId": "f7917aff-b375-4ff2-e462-1c7cb8379f8b"
      },
      "execution_count": null,
      "outputs": [
        {
          "output_type": "stream",
          "name": "stdout",
          "text": [
            "17.47439931329904: ['Review']\n",
            "17.36852875173059: ['Review', 'Description']\n",
            "17.84504378939193: ['Review', 'all genres']\n",
            "17.498581555973747: ['Review', 'Description', 'all genres']\n",
            "17.49448927603161: ['Review', 'budget']\n",
            "17.39883790680097: ['Review', 'Description', 'budget']\n",
            "17.876711730281784: ['Review', 'budget', 'all genres']\n",
            "17.54434062767692: ['Review', 'Description', 'budget', 'all genres']\n",
            "17.218241406780642: ['Review', 'box office']\n",
            "17.23318071674128: ['Review', 'Description', 'box office']\n",
            "17.538651317927084: ['Review', 'box office', 'all genres']\n",
            "17.316507946388036: ['Review', 'Description', 'box office', 'all genres']\n",
            "17.196651973540934: ['Review', 'budget', 'box office']\n",
            "17.17716556945656: ['Review', 'Description', 'budget', 'box office']\n",
            "17.530666970877995: ['Review', 'budget', 'box office', 'all genres']\n",
            "17.30259701240983: ['Review', 'Description', 'budget', 'box office', 'all genres']\n"
          ]
        }
      ]
    },
    {
      "cell_type": "code",
      "source": [
        "for columns_to_standard in [list(genres), [\"budget\"] + list(genres), [\"box office\"] + list(genres), [\"budget\", \"box office\"] + list(genres)]:\n",
        "  for columns_to_encode in [[], [\"all genres\"]]: \n",
        "    for ct_val in [1, 2]: \n",
        "      ct = None\n",
        "      if ct_val == 1:\n",
        "        ct = make_column_transformer(\n",
        "            (TfidfVectorizer(max_features=2000), \"Review\"),\n",
        "            (OneHotEncoder(handle_unknown = 'ignore'), columns_to_encode),\n",
        "            (StandardScaler(), columns_to_standard),\n",
        "            remainder=\"drop\"  # all other columns in X will be dropped.\n",
        "          )\n",
        "      if ct_val == 2:\n",
        "        ct = make_column_transformer(\n",
        "            (TfidfVectorizer(max_features=2000), \"Review\"),\n",
        "            (TfidfVectorizer(max_features=2000), \"Description\"),\n",
        "            (OneHotEncoder(handle_unknown = 'ignore'), columns_to_encode),\n",
        "            (StandardScaler(), columns_to_standard),\n",
        "            remainder=\"drop\"  # all other columns in X will be dropped.\n",
        "          )       \n",
        "\n",
        "      pipeline = make_pipeline(\n",
        "                  ct,\n",
        "                  LinearRegression()\n",
        "                  )\n",
        "\n",
        "      scores = cross_val_score(pipeline, \n",
        "                              X=X_train,\n",
        "                              y=y_train,\n",
        "                              scoring=\"neg_mean_squared_error\",\n",
        "                              cv=20)\n",
        "      \n",
        "      columns = [\"Review\"] + columns_to_standard + columns_to_encode\n",
        "      if ct_val == 2:\n",
        "        columns = [\"Review\", \"Description\"] + columns_to_standard + columns_to_encode\n",
        "\n",
        "      print(str(np.sqrt(-scores).mean()) + \": \" + str(columns))\n",
        "\n",
        "\n"
      ],
      "metadata": {
        "colab": {
          "base_uri": "https://localhost:8080/"
        },
        "id": "ayIoWuINRAIv",
        "outputId": "7f04213b-fcde-4f63-bb23-21e6cdc010df"
      },
      "execution_count": null,
      "outputs": [
        {
          "output_type": "stream",
          "name": "stdout",
          "text": [
            "17.409121776318482: ['Review', 'Action', 'Adventure', 'Animation', 'Comedy', 'Crime', 'Drama', 'Family', 'Fantasy', 'Mystery', 'Romance', 'Science Fiction', 'Thriller', 'War', 'Western']\n",
            "17.37175883544118: ['Review', 'Description', 'Action', 'Adventure', 'Animation', 'Comedy', 'Crime', 'Drama', 'Family', 'Fantasy', 'Mystery', 'Romance', 'Science Fiction', 'Thriller', 'War', 'Western']\n",
            "17.633396209299356: ['Review', 'Action', 'Adventure', 'Animation', 'Comedy', 'Crime', 'Drama', 'Family', 'Fantasy', 'Mystery', 'Romance', 'Science Fiction', 'Thriller', 'War', 'Western', 'all genres']\n",
            "17.448663362013857: ['Review', 'Description', 'Action', 'Adventure', 'Animation', 'Comedy', 'Crime', 'Drama', 'Family', 'Fantasy', 'Mystery', 'Romance', 'Science Fiction', 'Thriller', 'War', 'Western', 'all genres']\n",
            "17.421848329449517: ['Review', 'budget', 'Action', 'Adventure', 'Animation', 'Comedy', 'Crime', 'Drama', 'Family', 'Fantasy', 'Mystery', 'Romance', 'Science Fiction', 'Thriller', 'War', 'Western']\n",
            "17.4039070584422: ['Review', 'Description', 'budget', 'Action', 'Adventure', 'Animation', 'Comedy', 'Crime', 'Drama', 'Family', 'Fantasy', 'Mystery', 'Romance', 'Science Fiction', 'Thriller', 'War', 'Western']\n",
            "17.678261675432797: ['Review', 'budget', 'Action', 'Adventure', 'Animation', 'Comedy', 'Crime', 'Drama', 'Family', 'Fantasy', 'Mystery', 'Romance', 'Science Fiction', 'Thriller', 'War', 'Western', 'all genres']\n",
            "17.4840998608994: ['Review', 'Description', 'budget', 'Action', 'Adventure', 'Animation', 'Comedy', 'Crime', 'Drama', 'Family', 'Fantasy', 'Mystery', 'Romance', 'Science Fiction', 'Thriller', 'War', 'Western', 'all genres']\n",
            "17.088841837288136: ['Review', 'box office', 'Action', 'Adventure', 'Animation', 'Comedy', 'Crime', 'Drama', 'Family', 'Fantasy', 'Mystery', 'Romance', 'Science Fiction', 'Thriller', 'War', 'Western']\n",
            "17.138488391429313: ['Review', 'Description', 'box office', 'Action', 'Adventure', 'Animation', 'Comedy', 'Crime', 'Drama', 'Family', 'Fantasy', 'Mystery', 'Romance', 'Science Fiction', 'Thriller', 'War', 'Western']\n",
            "17.37498427517089: ['Review', 'box office', 'Action', 'Adventure', 'Animation', 'Comedy', 'Crime', 'Drama', 'Family', 'Fantasy', 'Mystery', 'Romance', 'Science Fiction', 'Thriller', 'War', 'Western', 'all genres']\n",
            "17.25529252370715: ['Review', 'Description', 'box office', 'Action', 'Adventure', 'Animation', 'Comedy', 'Crime', 'Drama', 'Family', 'Fantasy', 'Mystery', 'Romance', 'Science Fiction', 'Thriller', 'War', 'Western', 'all genres']\n",
            "17.144623517134864: ['Review', 'budget', 'box office', 'Action', 'Adventure', 'Animation', 'Comedy', 'Crime', 'Drama', 'Family', 'Fantasy', 'Mystery', 'Romance', 'Science Fiction', 'Thriller', 'War', 'Western']\n",
            "17.16346500873728: ['Review', 'Description', 'budget', 'box office', 'Action', 'Adventure', 'Animation', 'Comedy', 'Crime', 'Drama', 'Family', 'Fantasy', 'Mystery', 'Romance', 'Science Fiction', 'Thriller', 'War', 'Western']\n",
            "17.427736792759546: ['Review', 'budget', 'box office', 'Action', 'Adventure', 'Animation', 'Comedy', 'Crime', 'Drama', 'Family', 'Fantasy', 'Mystery', 'Romance', 'Science Fiction', 'Thriller', 'War', 'Western', 'all genres']\n",
            "17.287436698828184: ['Review', 'Description', 'budget', 'box office', 'Action', 'Adventure', 'Animation', 'Comedy', 'Crime', 'Drama', 'Family', 'Fantasy', 'Mystery', 'Romance', 'Science Fiction', 'Thriller', 'War', 'Western', 'all genres']\n"
          ]
        }
      ]
    },
    {
      "cell_type": "markdown",
      "source": [
        "## K-Neighbors Regression"
      ],
      "metadata": {
        "id": "gvS2MYtKFtlv"
      }
    },
    {
      "cell_type": "code",
      "source": [
        "#find best k-value in 6 minutes\n",
        "ct = make_column_transformer(\n",
        "    (TfidfVectorizer(), \"Review\"),\n",
        "    remainder=\"drop\"  # all other columns in X will be dropped.\n",
        ")\n",
        "\n",
        "pipeline = make_pipeline(\n",
        "            ct,\n",
        "            KNeighborsRegressor(n_neighbors=19)\n",
        "            )\n",
        "\n",
        "\n",
        "#return 19 as best k-value\n",
        "grid_search = GridSearchCV(pipeline,\n",
        "                           param_grid={\n",
        "                               \"kneighborsregressor__n_neighbors\": range(1, 20)\n",
        "                           },\n",
        "                           scoring=\"neg_mean_squared_error\",\n",
        "                           cv=10)\n",
        "grid_search.fit(X_train, y_train)\n",
        "grid_search.best_estimator_"
      ],
      "metadata": {
        "colab": {
          "base_uri": "https://localhost:8080/"
        },
        "id": "cg-hx4G8J01D",
        "outputId": "e112328d-569f-4d4f-b432-dc7deeff63d7"
      },
      "execution_count": 21,
      "outputs": [
        {
          "output_type": "execute_result",
          "data": {
            "text/plain": [
              "Pipeline(steps=[('columntransformer',\n",
              "                 ColumnTransformer(transformers=[('tfidfvectorizer',\n",
              "                                                  TfidfVectorizer(),\n",
              "                                                  'Review')])),\n",
              "                ('kneighborsregressor', KNeighborsRegressor(n_neighbors=19))])"
            ]
          },
          "metadata": {},
          "execution_count": 21
        }
      ]
    },
    {
      "cell_type": "code",
      "source": [
        "#test with k neighbors with k-value of 19 (from gridSearchCV) with all words(obtained from trial and error) in tf-idf\n",
        "ct = make_column_transformer(\n",
        "    (TfidfVectorizer(), \"Review\"),\n",
        "    remainder=\"drop\"  # all other columns in X will be dropped.\n",
        ")\n",
        "\n",
        "pipeline = make_pipeline(\n",
        "            ct,\n",
        "            KNeighborsRegressor(n_neighbors=19)\n",
        "            )\n",
        "\n",
        "scores = cross_val_score(pipeline, \n",
        "                         X=X_train,\n",
        "                         y=y_train,\n",
        "                         scoring=\"neg_mean_squared_error\",\n",
        "                         cv=20)\n",
        "\n",
        "print(\"[Review]: \" + str(np.sqrt(-scores).mean()))\n"
      ],
      "metadata": {
        "colab": {
          "base_uri": "https://localhost:8080/"
        },
        "id": "wh7ETI8wfYVS",
        "outputId": "f13e27cd-d36a-44a1-befa-03d1ec41bda5"
      },
      "execution_count": null,
      "outputs": [
        {
          "output_type": "stream",
          "name": "stdout",
          "text": [
            "[Review]: 17.5071695121731\n"
          ]
        }
      ]
    },
    {
      "cell_type": "code",
      "source": [
        "ct = make_column_transformer(\n",
        "    (TfidfVectorizer(), \"Review\"),\n",
        "    (TfidfVectorizer(), \"Description\"),\n",
        "    remainder=\"drop\"  # all other columns in X will be dropped.\n",
        "  )\n",
        "\n",
        "pipeline = make_pipeline(\n",
        "            ct,\n",
        "            KNeighborsRegressor(n_neighbors=19)\n",
        "            )\n",
        "\n",
        "scores = cross_val_score(pipeline, \n",
        "                        X=X_train,\n",
        "                        y=y_train,\n",
        "                        scoring=\"neg_mean_squared_error\",\n",
        "                        cv=20)\n",
        "\n",
        "print(\"[Review, Description]: \" + str(np.sqrt(-scores).mean()))"
      ],
      "metadata": {
        "colab": {
          "base_uri": "https://localhost:8080/"
        },
        "id": "2JcUrTy7tmov",
        "outputId": "f0c2d0f0-0c27-42aa-98f4-f7c90fa4d917"
      },
      "execution_count": null,
      "outputs": [
        {
          "output_type": "stream",
          "name": "stdout",
          "text": [
            "[Review, Description]: 17.96923610111263\n"
          ]
        }
      ]
    },
    {
      "cell_type": "code",
      "source": [
        "\n",
        "genres = df_movie_reviews.columns[9:]\n",
        "\n",
        "for columns_to_standard in [[], [\"budget\"], [\"box office\"], [\"budget\", \"box office\"], ]:\n",
        "  for columns_to_encode in [[], [\"all genres\"]]: \n",
        "    ct = make_column_transformer(\n",
        "        (TfidfVectorizer(), \"Review\"),\n",
        "        (OneHotEncoder(handle_unknown = 'ignore'), columns_to_encode),\n",
        "        (StandardScaler(), columns_to_standard),\n",
        "        remainder=\"drop\"  # all other columns in X will be dropped.\n",
        "      )\n",
        "\n",
        "    pipeline = make_pipeline(\n",
        "                ct,\n",
        "                KNeighborsRegressor(n_neighbors=19)\n",
        "                )\n",
        "\n",
        "    scores = cross_val_score(pipeline, \n",
        "                            X=X_train,\n",
        "                            y=y_train,\n",
        "                            scoring=\"neg_mean_squared_error\",\n",
        "                            cv=20)\n",
        "    columns = [\"Review\"] + columns_to_standard + columns_to_encode\n",
        "    \n",
        "    print(str(np.sqrt(-scores).mean()) + \": \" + str(columns))"
      ],
      "metadata": {
        "colab": {
          "base_uri": "https://localhost:8080/"
        },
        "id": "0vQL_w0mos0a",
        "outputId": "d7ecc95b-f57b-4864-a3d1-ee99041c514d"
      },
      "execution_count": null,
      "outputs": [
        {
          "output_type": "stream",
          "name": "stdout",
          "text": [
            "17.5071695121731: ['Review']\n",
            "18.38595259927196: ['Review', 'all genres']\n",
            "18.322563774780157: ['Review', 'budget']\n",
            "18.985151375126545: ['Review', 'budget', 'all genres']\n",
            "17.93246114569583: ['Review', 'box office']\n",
            "19.15445899565548: ['Review', 'box office', 'all genres']\n",
            "19.367785021023344: ['Review', 'budget', 'box office']\n",
            "20.237806867511274: ['Review', 'budget', 'box office', 'all genres']\n"
          ]
        }
      ]
    },
    {
      "cell_type": "code",
      "source": [
        "for columns_to_standard in [list(genres), [\"budget\"] + list(genres), [\"box office\"] + list(genres), [\"budget\", \"box office\"] + list(genres)]:\n",
        "  for columns_to_encode in [[], [\"all genres\"]]: \n",
        "    ct = make_column_transformer(\n",
        "        (TfidfVectorizer(), \"Review\"),\n",
        "        (OneHotEncoder(handle_unknown = 'ignore'), columns_to_encode),\n",
        "        (StandardScaler(), columns_to_standard),\n",
        "        remainder=\"drop\"  # all other columns in X will be dropped.\n",
        "      )\n",
        "\n",
        "    pipeline = make_pipeline(\n",
        "                ct,\n",
        "                KNeighborsRegressor(n_neighbors=19)\n",
        "                )\n",
        "\n",
        "    scores = cross_val_score(pipeline, \n",
        "                            X=X_train,\n",
        "                            y=y_train,\n",
        "                            scoring=\"neg_mean_squared_error\",\n",
        "                            cv=20)\n",
        "    columns = [\"Review\"] + columns_to_standard + columns_to_encode\n",
        "    print(str(np.sqrt(-scores).mean()) + \": \" + str(columns))\n"
      ],
      "metadata": {
        "colab": {
          "base_uri": "https://localhost:8080/"
        },
        "id": "hdP59kBlzqbq",
        "outputId": "e21d759e-49f8-428c-da70-0301deca549f"
      },
      "execution_count": null,
      "outputs": [
        {
          "output_type": "stream",
          "name": "stdout",
          "text": [
            "19.392682281073142: ['Review', 'Action', 'Adventure', 'Animation', 'Comedy', 'Crime', 'Drama', 'Family', 'Fantasy', 'Mystery', 'Romance', 'Science Fiction', 'Thriller', 'War', 'Western']\n",
            "19.387944614801917: ['Review', 'Action', 'Adventure', 'Animation', 'Comedy', 'Crime', 'Drama', 'Family', 'Fantasy', 'Mystery', 'Romance', 'Science Fiction', 'Thriller', 'War', 'Western', 'all genres']\n",
            "19.695468667494854: ['Review', 'budget', 'Action', 'Adventure', 'Animation', 'Comedy', 'Crime', 'Drama', 'Family', 'Fantasy', 'Mystery', 'Romance', 'Science Fiction', 'Thriller', 'War', 'Western']\n",
            "19.696357197975306: ['Review', 'budget', 'Action', 'Adventure', 'Animation', 'Comedy', 'Crime', 'Drama', 'Family', 'Fantasy', 'Mystery', 'Romance', 'Science Fiction', 'Thriller', 'War', 'Western', 'all genres']\n",
            "20.215740588439726: ['Review', 'box office', 'Action', 'Adventure', 'Animation', 'Comedy', 'Crime', 'Drama', 'Family', 'Fantasy', 'Mystery', 'Romance', 'Science Fiction', 'Thriller', 'War', 'Western']\n",
            "20.514934345556078: ['Review', 'box office', 'Action', 'Adventure', 'Animation', 'Comedy', 'Crime', 'Drama', 'Family', 'Fantasy', 'Mystery', 'Romance', 'Science Fiction', 'Thriller', 'War', 'Western', 'all genres']\n",
            "20.076732295283186: ['Review', 'budget', 'box office', 'Action', 'Adventure', 'Animation', 'Comedy', 'Crime', 'Drama', 'Family', 'Fantasy', 'Mystery', 'Romance', 'Science Fiction', 'Thriller', 'War', 'Western']\n",
            "20.06409534458715: ['Review', 'budget', 'box office', 'Action', 'Adventure', 'Animation', 'Comedy', 'Crime', 'Drama', 'Family', 'Fantasy', 'Mystery', 'Romance', 'Science Fiction', 'Thriller', 'War', 'Western', 'all genres']\n"
          ]
        }
      ]
    },
    {
      "cell_type": "markdown",
      "source": [
        "## Gradient Boosting Regressor"
      ],
      "metadata": {
        "id": "ARN_6zUcF_xV"
      }
    },
    {
      "cell_type": "code",
      "source": [
        "  ct = make_column_transformer(\n",
        "      (TfidfVectorizer(), \"Review\"),\n",
        "      (OneHotEncoder(handle_unknown = 'ignore'), []),\n",
        "      (StandardScaler(), []),\n",
        "      remainder=\"drop\"  # all other columns in X will be dropped.\n",
        "    )\n",
        "    \n",
        "  pipeline = make_pipeline(\n",
        "              ct,\n",
        "              GradientBoostingRegressor()\n",
        "              )\n",
        "\n",
        "\n",
        "  scores = cross_val_score(pipeline, \n",
        "                          X=X_train,\n",
        "                          y=y_train,\n",
        "                          scoring=\"neg_mean_squared_error\",\n",
        "                          cv=20)\n",
        "  \n",
        "  columns = [\"Review\"]\n",
        "  print(str(np.sqrt(-scores).mean()) + \": \" + str(columns))"
      ],
      "metadata": {
        "colab": {
          "base_uri": "https://localhost:8080/"
        },
        "id": "KX2S6D8aO2Vv",
        "outputId": "14a21462-725d-47e5-f03c-210396610a78"
      },
      "execution_count": 22,
      "outputs": [
        {
          "output_type": "stream",
          "name": "stdout",
          "text": [
            "18.423324955774177: ['Review']\n"
          ]
        }
      ]
    },
    {
      "cell_type": "code",
      "source": [
        "  ct = make_column_transformer(\n",
        "      (TfidfVectorizer(), \"Review\"),\n",
        "      (OneHotEncoder(handle_unknown = 'ignore'), []),\n",
        "      (StandardScaler(), list(genres)),\n",
        "      remainder=\"drop\"  # all other columns in X will be dropped.\n",
        "    )\n",
        "    \n",
        "  pipeline = make_pipeline(\n",
        "              ct,\n",
        "              GradientBoostingRegressor()\n",
        "              )\n",
        "\n",
        "\n",
        "  scores = cross_val_score(pipeline, \n",
        "                          X=X_train,\n",
        "                          y=y_train,\n",
        "                          scoring=\"neg_mean_squared_error\",\n",
        "                          cv=20)\n",
        "  \n",
        "  columns = [\"Review\"] + list(genres)\n",
        "  print(str(np.sqrt(-scores).mean()) + \": \" + str(columns))"
      ],
      "metadata": {
        "colab": {
          "base_uri": "https://localhost:8080/"
        },
        "id": "jj4JnZTpFCW1",
        "outputId": "553299b5-df09-411e-c302-42712f957217"
      },
      "execution_count": 23,
      "outputs": [
        {
          "output_type": "stream",
          "name": "stdout",
          "text": [
            "18.446451407054564: ['Review', 'Action', 'Adventure', 'Animation', 'Comedy', 'Crime', 'Drama', 'Family', 'Fantasy', 'Mystery', 'Romance', 'Science Fiction', 'Thriller', 'War', 'Western']\n"
          ]
        }
      ]
    },
    {
      "cell_type": "code",
      "source": [
        "  ct = make_column_transformer(\n",
        "      (TfidfVectorizer(), \"Review\"),\n",
        "      (OneHotEncoder(handle_unknown = 'ignore'), []),\n",
        "      (StandardScaler(), [\"box office\"] + list(genres)),\n",
        "      remainder=\"drop\"  # all other columns in X will be dropped.\n",
        "    )\n",
        "    \n",
        "  pipeline = make_pipeline(\n",
        "              ct,\n",
        "              GradientBoostingRegressor()\n",
        "              )\n",
        "\n",
        "\n",
        "  scores = cross_val_score(pipeline, \n",
        "                          X=X_train,\n",
        "                          y=y_train,\n",
        "                          scoring=\"neg_mean_squared_error\",\n",
        "                          cv=20)\n",
        "  \n",
        "  columns = [\"Review\"] + [\"box office\"] + list(genres)\n",
        "  print(str(np.sqrt(-scores).mean()) + \": \" + str(columns))"
      ],
      "metadata": {
        "colab": {
          "base_uri": "https://localhost:8080/"
        },
        "id": "vsxFmZOuC0ZV",
        "outputId": "0f5e1fa4-dcdd-45f5-b8f4-4cb68d78637f"
      },
      "execution_count": 24,
      "outputs": [
        {
          "output_type": "stream",
          "name": "stdout",
          "text": [
            "17.865112618566243: ['Review', 'box office', 'Action', 'Adventure', 'Animation', 'Comedy', 'Crime', 'Drama', 'Family', 'Fantasy', 'Mystery', 'Romance', 'Science Fiction', 'Thriller', 'War', 'Western']\n"
          ]
        }
      ]
    },
    {
      "cell_type": "markdown",
      "source": [
        "## Ensemble Methods - Stacking Regressor"
      ],
      "metadata": {
        "id": "zQszcd6cOcMl"
      }
    },
    {
      "cell_type": "code",
      "source": [
        "ct = make_column_transformer(\n",
        "    (TfidfVectorizer(), \"Review\"),\n",
        "    remainder=\"drop\"  # all other columns in X will be dropped.\n",
        ")\n",
        "\n",
        "linear_model = make_pipeline(\n",
        "            ct,\n",
        "            LinearRegression()\n",
        "            )\n",
        "\n",
        "knn_model = make_pipeline(\n",
        "            ct,\n",
        "            KNeighborsRegressor(n_neighbors=19)\n",
        "            )\n",
        "\n",
        "grad_model = make_pipeline(\n",
        "              ct,\n",
        "              GradientBoostingRegressor()\n",
        "              )\n",
        "\n",
        "\n",
        "stacking_model = StackingRegressor([\n",
        "    (\"linear\", linear_model)],\n",
        "    final_estimator=LinearRegression()\n",
        ")\n",
        "\n",
        "\n",
        "scores = cross_val_score(pipeline, \n",
        "                        X=X_train,\n",
        "                        y=y_train,\n",
        "                        scoring=\"neg_mean_squared_error\",\n",
        "                        cv=20)\n",
        "\n",
        "columns = [\"Review\"]\n",
        "print(str(np.sqrt(-scores).mean()) + \": \" + str(columns))"
      ],
      "metadata": {
        "colab": {
          "base_uri": "https://localhost:8080/"
        },
        "id": "g_kPIVEGWYkS",
        "outputId": "61cc41b3-2aab-41de-c34e-716dbb3f4e0c"
      },
      "execution_count": 31,
      "outputs": [
        {
          "output_type": "stream",
          "name": "stdout",
          "text": [
            "17.900357047003954: ['Review']\n"
          ]
        }
      ]
    },
    {
      "cell_type": "code",
      "source": [
        "from sklearn.ensemble import StackingRegressor\n",
        "\n",
        "ct = make_column_transformer(\n",
        "    (TfidfVectorizer(), \"Review\"),\n",
        "    remainder=\"drop\"  # all other columns in X will be dropped.\n",
        ")\n",
        "\n",
        "linear_model = make_pipeline(\n",
        "            ct,\n",
        "            LinearRegression()\n",
        "            )\n",
        "\n",
        "knn_model = make_pipeline(\n",
        "            ct,\n",
        "            KNeighborsRegressor(n_neighbors=19)\n",
        "            )\n",
        "\n",
        "grad_model = make_pipeline(\n",
        "              ct,\n",
        "              GradientBoostingRegressor()\n",
        "              )\n",
        "\n",
        "\n",
        "stacking_model = StackingRegressor([\n",
        "    (\"linear\", linear_model), \n",
        "    (\"knn\", knn_model)],\n",
        "    final_estimator=LinearRegression()\n",
        ")\n",
        "\n",
        "\n",
        "scores = cross_val_score(pipeline, \n",
        "                        X=X_train,\n",
        "                        y=y_train,\n",
        "                        scoring=\"neg_mean_squared_error\",\n",
        "                        cv=20)\n",
        "\n",
        "columns = [\"Review\"]\n",
        "print(str(np.sqrt(-scores).mean()) + \": \" + str(columns))"
      ],
      "metadata": {
        "colab": {
          "base_uri": "https://localhost:8080/"
        },
        "id": "j9PerlLsOu-_",
        "outputId": "8301c355-8c5d-49db-c7f0-d931a3db19c3"
      },
      "execution_count": 27,
      "outputs": [
        {
          "output_type": "stream",
          "name": "stdout",
          "text": [
            "17.88320758373705: ['Review']\n"
          ]
        }
      ]
    },
    {
      "cell_type": "code",
      "source": [
        "\n",
        "ct = make_column_transformer(\n",
        "    (TfidfVectorizer(), \"Review\"),\n",
        "    remainder=\"drop\"  # all other columns in X will be dropped.\n",
        ")\n",
        "\n",
        "linear_model = make_pipeline(\n",
        "            ct,\n",
        "            LinearRegression()\n",
        "            )\n",
        "\n",
        "knn_model = make_pipeline(\n",
        "            ct,\n",
        "            KNeighborsRegressor(n_neighbors=19)\n",
        "            )\n",
        "\n",
        "grad_model = make_pipeline(\n",
        "              ct,\n",
        "              GradientBoostingRegressor()\n",
        "              )\n",
        "\n",
        "\n",
        "stacking_model = StackingRegressor([\n",
        "    (\"linear\", linear_model), \n",
        "    (\"knn\", knn_model),\n",
        "    (\"grad\", grad_model)],\n",
        "    final_estimator=LinearRegression()\n",
        ")\n",
        "\n",
        "\n",
        "scores = cross_val_score(pipeline, \n",
        "                        X=X_train,\n",
        "                        y=y_train,\n",
        "                        scoring=\"neg_mean_squared_error\",\n",
        "                        cv=20)\n",
        "\n",
        "columns = [\"Review\"]\n",
        "print(str(np.sqrt(-scores).mean()) + \": \" + str(columns))"
      ],
      "metadata": {
        "colab": {
          "base_uri": "https://localhost:8080/"
        },
        "id": "iFagwVvlUkjh",
        "outputId": "35a7cee4-e876-4177-9811-5d6d3eede67f"
      },
      "execution_count": 30,
      "outputs": [
        {
          "output_type": "stream",
          "name": "stdout",
          "text": [
            "17.91932730413762: ['Review']\n"
          ]
        }
      ]
    }
  ]
}